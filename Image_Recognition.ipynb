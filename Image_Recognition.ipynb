{
 "cells": [
  {
   "cell_type": "code",
   "execution_count": 245,
   "id": "f3069ecf",
   "metadata": {},
   "outputs": [],
   "source": [
    "#Importing the required packages\n",
    "\n",
    "import numpy as np\n",
    "import pandas as pd\n",
    "import matplotlib.pyplot as mlp\n",
    "from sklearn import preprocessing\n",
    "from sklearn.model_selection import train_test_split\n",
    "from sklearn.metrics import accuracy_score\n",
    "from sklearn import metrics \n"
   ]
  },
  {
   "cell_type": "markdown",
   "id": "3d52c6c9",
   "metadata": {},
   "source": [
    "## Implementation of Logistic Regression\n",
    "\n",
    "Logistic regression is a type of supervised learning algorithm used for binary classification problems (predicting whether an input belongs to one of two possible classes). It models the probability of the output class as a function of the input features.\n",
    "\n",
    "The loss function in logistic regression is the log loss or cross-entropy loss, which measures the difference between the predicted probability and the actual class label. This loss function penalizes the model more heavily for incorrect predictions that are further away from the actual label.\n",
    "\n",
    "The cost function in logistic regression is the average of the loss function over all the training examples. Its goal is to minimize the error between the predicted and actual labels.\n",
    "\n",
    "The sigmoid function is used in logistic regression to transform the output of the linear equation (also known as the \"logit\") into a probability value between 0 and 1. The sigmoid function is an S-shaped curve that maps any real-valued number to a value between 0 and 1.\n",
    "\n",
    "Gradient descent is an iterative optimization algorithm used to minimize the cost function in logistic regression. It updates the model parameters (weights and biases) in the direction of the negative gradient of the cost function, thereby moving the model closer to the optimal values. The learning rate, which determines the step size of the update, is an important hyperparameter in gradient descent.\n",
    "\n"
   ]
  },
  {
   "cell_type": "code",
   "execution_count": 246,
   "id": "34b56a3a",
   "metadata": {},
   "outputs": [],
   "source": [
    "# We will load the data from csv file\n",
    "df = pd.read_csv(\"blobs400.csv\")\n",
    "\n",
    "X = df.iloc[:, :-1].values\n",
    "y = df.iloc[:, -1].values\n",
    "\n",
    "X = np.c_[np.ones((X.shape[0], 1)), X]\n",
    "\n",
    "# We will split the data into training, testing and validation sets\n",
    "X_train, X_test, y_train, y_test = train_test_split(X, y, test_size=0.33, random_state=0)\n",
    "X_train, X_val, y_train, y_val = train_test_split(X_train, y_train, test_size=0.33, random_state=0)"
   ]
  },
  {
   "cell_type": "code",
   "execution_count": 247,
   "id": "67b47d19",
   "metadata": {},
   "outputs": [
    {
     "name": "stdout",
     "output_type": "stream",
     "text": [
      "Accuracy on the Validation Set: 0.9550561797752809\n",
      "Accuracy on the Test Set: 0.9772727272727273\n"
     ]
    }
   ],
   "source": [
    "#Here we write our function and methods for Logistic Regression\n",
    "\n",
    "#Equally contributed by both Mohammad Sabnain and Basabdatta Chaudhury\n",
    "\n",
    "def sigmoid(z):\n",
    "    return 1 / (1 + np.exp(-z))\n",
    "\n",
    "\n",
    "weights = np.zeros(X.shape[1])\n",
    "\n",
    "# We are defining the learning rate and the number of epochs\n",
    "\n",
    "learning_rate = 0.1\n",
    "num_epochs = 1000\n",
    "\n",
    "# Performing the  gradient descent to find the optimal weights\n",
    "\n",
    "for epoch in range(num_epochs):\n",
    "    # calculate the dot product of X and weights\n",
    "    z = np.dot(X_train, weights)\n",
    "\n",
    "    # calculate the predicted probabilities using the sigmoid function\n",
    "    y_pred = sigmoid(z)\n",
    "\n",
    "    # calculate the error\n",
    "    error = y_train - y_pred\n",
    "\n",
    "    # calculate the gradient\n",
    "    gradient = np.dot(X_train.T, error)\n",
    "\n",
    "    # update the weights\n",
    "    weights += learning_rate * gradient\n",
    "\n",
    "# Predictions on the validation set\n",
    "\n",
    "z = np.dot(X_val, weights)\n",
    "y_pred = sigmoid(z)\n",
    "y_pred = np.round(y_pred)\n",
    "\n",
    "# Calculating the accuracy\n",
    "\n",
    "accuracy = np.mean(y_pred == y_val)\n",
    "print(\"Accuracy on the Validation Set:\", accuracy)\n",
    "\n",
    "# Predictions on the test set\n",
    "\n",
    "z = np.dot(X_test, weights)\n",
    "y_pred = sigmoid(z)\n",
    "y_pred = np.round(y_pred)\n",
    "\n",
    "# Calculating the accuracy\n",
    "\n",
    "accuracy = np.mean(y_pred == y_test)\n",
    "print(\"Accuracy on the Test Set:\", accuracy)"
   ]
  },
  {
   "cell_type": "code",
   "execution_count": 248,
   "id": "be4ca322",
   "metadata": {},
   "outputs": [],
   "source": [
    "# We will load the data from csv file\n",
    "df = pd.read_csv(\"moons500.csv\")\n",
    "\n",
    "X = df.iloc[:, :-1].values\n",
    "y = df.iloc[:, -1].values\n",
    "\n",
    "X = np.c_[np.ones((X.shape[0], 1)), X]\n",
    "\n",
    "# We will split the data into training, testing and validation sets\n",
    "X_train, X_test, y_train, y_test = train_test_split(X, y, test_size=0.33, random_state=0)\n",
    "X_train, X_val, y_train, y_val = train_test_split(X_train, y_train, test_size=0.33, random_state=0)"
   ]
  },
  {
   "cell_type": "code",
   "execution_count": 249,
   "id": "5d2cdf0f",
   "metadata": {},
   "outputs": [
    {
     "name": "stdout",
     "output_type": "stream",
     "text": [
      "Accuracy on the Validation Set: 0.8738738738738738\n",
      "Accuracy on the Test Set: 0.8363636363636363\n"
     ]
    }
   ],
   "source": [
    "#Here we write our function and methods for Logistic Regression\n",
    "\n",
    "#Equally contributed by both Mohammad Sabnine and Basabdatta Chaudhury\n",
    "\n",
    "def sigmoid(z):\n",
    "    return 1 / (1 + np.exp(-z))\n",
    "\n",
    "\n",
    "weights = np.zeros(X.shape[1])\n",
    "\n",
    "# We are defining the learning rate and the number of epochs\n",
    "\n",
    "learning_rate = 0.1\n",
    "num_epochs = 1000\n",
    "\n",
    "# Performing the  gradient descent to find the optimal weights\n",
    "\n",
    "for epoch in range(num_epochs):\n",
    "    # calculate the dot product of X and weights\n",
    "    z = np.dot(X_train, weights)\n",
    "\n",
    "    # calculate the predicted probabilities using the sigmoid function\n",
    "    y_pred = sigmoid(z)\n",
    "\n",
    "    # calculate the error\n",
    "    error = y_train - y_pred\n",
    "\n",
    "    # calculate the gradient\n",
    "    gradient = np.dot(X_train.T, error)\n",
    "\n",
    "    # update the weights\n",
    "    weights += learning_rate * gradient\n",
    "\n",
    "# Predictions on the validation set\n",
    "\n",
    "z = np.dot(X_val, weights)\n",
    "y_pred = sigmoid(z)\n",
    "y_pred = np.round(y_pred)\n",
    "\n",
    "# Calculating the accuracy\n",
    "\n",
    "accuracy = np.mean(y_pred == y_val)\n",
    "print(\"Accuracy on the Validation Set:\", accuracy)\n",
    "\n",
    "# Predictions on the test set\n",
    "\n",
    "z = np.dot(X_test, weights)\n",
    "y_pred = sigmoid(z)\n",
    "y_pred = np.round(y_pred)\n",
    "\n",
    "# Calculating the accuracy\n",
    "\n",
    "accuracy = np.mean(y_pred == y_test)\n",
    "print(\"Accuracy on the Test Set:\", accuracy)"
   ]
  },
  {
   "cell_type": "markdown",
   "id": "24a67b45",
   "metadata": {},
   "source": [
    "# Task 3: Shallow Neural Network (Implementation and Testing)\n",
    "\n",
    "A shallow neural network is a type of artificial neural network that consists of only one hidden layer between the input and output layers. Unlike deep neural networks that have multiple hidden layers, shallow neural networks have a simpler architecture and are typically easier to train and interpret.\n",
    "\n",
    "Following the lecture notes, we have used the below to implement the algorithm:\n",
    "\n",
    "Weight Initialization and Bias: Weight initialization in a shallow neural network involves setting initial values for the weights that connect the input layer to the hidden layer and the weights that connect the hidden layer to the output layer. These weights are typically initialized to small random values drawn from a Gaussian distribution, a uniform distribution or some other initialization method. The choice of weight initialization can have a significant impact on the performance of the network during training and its ability to generalize to new data.\n",
    "\n",
    "Bias in a shallow neural network refers to an additional parameter that is added to the input of each neuron in the hidden layer and output layer. The bias values are independent of the input data and can help the network learn more complex functions. The biases are typically initialized to zero or some other value during training and updated through backpropagation. The biases help to shift the activation function of the neurons to the left or right, which can improve the performance of the network.\n",
    "\n",
    "Forward Propagation:\n",
    "Forward propagation is the process of computing the output of a neural network given an input. During forward propagation, the input is passed through the input layer, multiplied by the weights in the hidden layer, and then passed through an activation function. This process is repeated for each subsequent layer until the output layer is reached, which produces the final output.\n",
    "\n",
    "Backward Propagation:\n",
    "Backward propagation, also known as backpropagation, is the process of calculating the gradients of the network's parameters (i.e., weights and biases) with respect to the loss function. This process allows the network to learn from its mistakes by adjusting its parameters to minimize the error between its predicted output and the actual output. During backward propagation, the error between the predicted output and the actual output is first calculated. The gradients of the weights and biases in each layer are then calculated by propagating the error backwards through the layers using the chain rule of differentiation. These gradients are used to update the weights and biases using an optimization algorithm such as gradient descent, which iteratively adjusts the parameters to minimize the error."
   ]
  },
  {
   "cell_type": "code",
   "execution_count": 250,
   "id": "dcf6836f",
   "metadata": {},
   "outputs": [
    {
     "name": "stdout",
     "output_type": "stream",
     "text": [
      "The Shape of X_train_moons:  (222, 2)\n",
      "The Shape of X_val_moons: (111, 2)\n",
      "The Shape of X_test_moons: (167, 2)\n",
      "The Shape of X_train_blobs: (177, 3)\n",
      "The Shape of X_val_blobs: (89, 3)\n",
      "The Shape of X_test_blobs: (134, 3)\n"
     ]
    }
   ],
   "source": [
    "# Loading the blobs and moons dataset that are provided\n",
    "\n",
    "blobs_dataset = pd.read_csv(\"blobs400.csv\")\n",
    "moons_dataset = pd.read_csv(\"moons500.csv\")\n",
    "\n",
    "X_data_moons,Y_data_moons = moons_dataset.iloc[:,:-1].values, moons_dataset.iloc[:,-1].values\n",
    "X_data_blobs,Y_data_blobs = blobs_dataset.iloc[:,:-1].values, blobs_dataset.iloc[:,-1].values\n",
    "\n",
    "# We will do a Z - normalization on moons dataset\n",
    "mean = np.mean(X_data_moons, axis=0) \n",
    "sd = np.std(X_data_moons, axis=0) \n",
    "X_data_circles= (X_data_moons -  mean) / sd\n",
    "\n",
    "# We will do a Z - normalization on blobs dataset\n",
    "mean = np.mean(X_data_blobs, axis=0) \n",
    "sd = np.std(X_data_blobs, axis=0) \n",
    "X_data_blobs= (X_data_blobs -  mean) / sd\n",
    "\n",
    "# We will split the moons dataset into training and test set\n",
    "X_train_moons, X_test_moons, Y_train_moons, Y_test_moons = train_test_split(X_data_moons, \n",
    "                                                Y_data_moons, train_size = 2/3,random_state=44)\n",
    "\n",
    "# We will split the moons training set into training and validation set\n",
    "X_train_moons, X_val_moons, Y_train_moons, Y_val_moons = train_test_split(X_train_moons, Y_train_moons, \n",
    "                                                        train_size = 2/3,\n",
    "                                                        random_state=44)\n",
    "\n",
    "# We will split the blobs dataset dataset into training and test set\n",
    "X_train_blobs, X_test_blobs, Y_train_blobs, Y_test_blobs = train_test_split(X_data_blobs, Y_data_blobs, \n",
    "                                                        train_size = 2/3,\n",
    "                                                        random_state=44)\n",
    "# We will split the blobs training set into training and validation set\n",
    "X_train_blobs, X_val_blobs, Y_train_blobs, Y_val_blobs = train_test_split(X_train_blobs, Y_train_blobs, \n",
    "                                                        train_size = 2/3,\n",
    "                                                        random_state=44)\n",
    "\n",
    "# Now we will reshape\n",
    "Y_train_moons = Y_train_moons.reshape(Y_train_moons.shape[0],1)\n",
    "Y_train_blobs = Y_train_blobs.reshape(Y_train_blobs.shape[0],1)\n",
    "\n",
    "print(\"The Shape of X_train_moons: \",X_train_moons.shape)\n",
    "print(\"The Shape of X_val_moons:\", X_val_moons.shape)\n",
    "print(\"The Shape of X_test_moons:\", X_test_moons.shape)\n",
    "print(\"The Shape of X_train_blobs:\", X_train_blobs.shape)\n",
    "print(\"The Shape of X_val_blobs:\", X_val_blobs.shape)\n",
    "print(\"The Shape of X_test_blobs:\", X_test_blobs.shape)\n"
   ]
  },
  {
   "cell_type": "code",
   "execution_count": 251,
   "id": "537716fa",
   "metadata": {},
   "outputs": [],
   "source": [
    "# Coded by Mohammad Sabnine\n",
    "\n",
    "def sigmoid_fn(z):\n",
    "    \n",
    "    return 1/(1+np.exp(-z))\n",
    "\n",
    "def tanh(z):\n",
    "    \n",
    "    return np.tanh(z)"
   ]
  },
  {
   "cell_type": "code",
   "execution_count": 252,
   "id": "49e283ed",
   "metadata": {},
   "outputs": [],
   "source": [
    "#Coded by Basabdatta Chaudhury\n",
    "\n",
    "def cost_func(Y_hat, Y):\n",
    "    \n",
    "    N = Y.shape[0]\n",
    "    return -(1/N) * np.sum(Y*np.log(Y_hat) + (1-Y)*np.log(1-Y_hat))"
   ]
  },
  {
   "cell_type": "code",
   "execution_count": 253,
   "id": "d6c29de3",
   "metadata": {},
   "outputs": [],
   "source": [
    "# Coded by Basabdatta Chaudhury\n",
    "\n",
    "# Initializing the weights and the biases\n",
    "\n",
    "def init_params(input_size, h, output_size):\n",
    "    \n",
    "    np.random.seed(10)\n",
    "\n",
    "\n",
    "    W1 = np.random.normal(scale=0.5, size=(input_size, h))\n",
    "    B1 = np.zeros(shape=(1,h))\n",
    "\n",
    "\n",
    "    W2 = np.random.normal(scale=0.5, size=(h, output_size))\n",
    "    B2 = np.zeros(shape=(output_size, 1))\n",
    "    \n",
    "    \n",
    "    parameters = {\"W1\":W1,\"B1\":B1,\"W2\":W2,\"B2\":B2}\n",
    "    \n",
    "    return parameters"
   ]
  },
  {
   "cell_type": "code",
   "execution_count": 254,
   "id": "035e69f0",
   "metadata": {},
   "outputs": [],
   "source": [
    "#Brainstormed and coded by both Basabdatta Chaudhury and Mohammad Sabnine\n",
    "\n",
    "def forward_propagation(X_train, parameters):\n",
    "    \n",
    "    \n",
    "    \n",
    "    W1 = parameters[\"W1\"]\n",
    "    B1 = parameters[\"B1\"]\n",
    "    W2 = parameters[\"W2\"]\n",
    "    B2 = parameters[\"B2\"]\n",
    "    \n",
    "    \n",
    "    Z1 = np.dot(X_train,W1) + B1\n",
    "    A1 = sigmoid_fn(Z1)\n",
    "    \n",
    "    \n",
    "    Z2 = np.dot(A1, W2) + B2\n",
    "    A2 = sigmoid_fn(Z2)  \n",
    "    \n",
    "    \n",
    "    forward_feed = {\"Z1\":Z1,\"A1\":A1,\"Z2\":Z2,\"A2\":A2}\n",
    "    \n",
    "    return forward_feed"
   ]
  },
  {
   "cell_type": "code",
   "execution_count": 255,
   "id": "75828ff7",
   "metadata": {},
   "outputs": [],
   "source": [
    "#This part is coded by both Mohammad Sabnine and Basabdatta Chaudhury\n",
    "\n",
    "def backward_propagation(X_train,Y_train, parameters, forward_feed, l_rate):\n",
    "    \n",
    "\n",
    "    \n",
    "    A2 = forward_feed[\"A2\"]\n",
    "    A1 = forward_feed[\"A1\"]\n",
    "    \n",
    "    \n",
    "    W1 = parameters['W1']\n",
    "    B1 = parameters['B1']\n",
    "    W2 = parameters['W2']\n",
    "    B2 = parameters['B2']\n",
    "    \n",
    "    N = X_train.shape[0]  \n",
    "    \n",
    "    \n",
    "    dZ2 = A2 - Y_train    \n",
    "    dW2 = (1./N)*np.dot(A1.T, dZ2)  \n",
    "    db2 = (1./N)*np.sum(dZ2, axis=0, keepdims=True)\n",
    "  \n",
    "    dZ1 = np.dot(dZ2, W2.T)\n",
    "    dZ1 = dZ1 * (A1 * (1-A1))  \n",
    "    dW1 = (1./N)*np.dot(X_train.T, dZ1)  \n",
    "    db1 = (1./N)*np.sum(dZ1, axis=0, keepdims=True)\n",
    "\n",
    "\n",
    "      \n",
    "    W1 = W1 - l_rate * dW1\n",
    "    B1 = B1 - l_rate * db1\n",
    "    W2 = W2 - l_rate * dW2\n",
    "    B2 = B2 - l_rate * db2\n",
    "        \n",
    "    \n",
    "    parameters = {\"W1\":W1,\"B1\":B1,\"W2\":W2,\"B2\":B2}\n",
    "    \n",
    "    return parameters"
   ]
  },
  {
   "cell_type": "code",
   "execution_count": 256,
   "id": "a9c064ac",
   "metadata": {},
   "outputs": [],
   "source": [
    "#Coded by Mohammad Sabnine\n",
    "\n",
    "def predict(X,parameters):\n",
    "    \n",
    "    \n",
    "    \n",
    "    N = X.shape[0]\n",
    "    Y_prediction = np.zeros((N,1))\n",
    "\n",
    "    \n",
    "    forward_feed = forward_propagation(X, parameters)\n",
    "    A2 = forward_feed['A2']\n",
    "    \n",
    "    \n",
    "    Y_prediction[A2 > 0.5] = 1\n",
    "      \n",
    "    return Y_prediction"
   ]
  },
  {
   "cell_type": "code",
   "execution_count": 257,
   "id": "9be88d69",
   "metadata": {},
   "outputs": [],
   "source": [
    "#This part is also coded by both Mohammad Sabnine and Basabdatta Chaudhury\n",
    "\n",
    "def neural_net(X_train, Y_train, X_test, Y_test, input_size, h, output_size, epochs, l_rate):\n",
    "    \n",
    "    \n",
    "    parameters = init_params(input_size, h, output_size)\n",
    "    \n",
    "    \n",
    "    costs_list = []\n",
    "    \n",
    "    for i in range(epochs+1):\n",
    "\n",
    "        forward_feed = forward_propagation(X_train, parameters)\n",
    "        parameters = backward_propagation(X_train, Y_train, parameters, forward_feed, l_rate)\n",
    "        \n",
    "        cost_val = cost_func(forward_feed[\"A2\"],Y_train)\n",
    "        costs_list.append(cost_val)\n",
    "\n",
    "        \n",
    "        train_pred = predict(X_train,parameters)\n",
    "\n",
    "        \n",
    "        test_pred = predict(X_test,parameters)\n",
    "\n",
    "        \n",
    "        if i%(epochs/10)==0:\n",
    "            acc_train=accuracy_score(Y_train, train_pred)\n",
    "            acc_test=accuracy_score(Y_test, test_pred)\n",
    "            print(\"Nth Epoch:\",i,\"Accuracy Training Set:\",acc_train,\"Accuracy Test_Set:\",acc_test)\n",
    "    \n",
    "   \n",
    "    mlp.plot(costs_list, color='blue')\n",
    "    mlp.ylabel('Cost Function')\n",
    "    mlp.xlabel('Iterations')\n",
    "    mlp.title(\"Change in Costs\")\n",
    "    mlp.show()\n",
    "    \n",
    "    return parameters"
   ]
  },
  {
   "cell_type": "code",
   "execution_count": 185,
   "id": "198ac231",
   "metadata": {},
   "outputs": [
    {
     "name": "stdout",
     "output_type": "stream",
     "text": [
      "Nth Epoch: 0 Accuracy Training Set: 0.4745762711864407 Accuracy Test_Set: 0.5373134328358209\n",
      "Nth Epoch: 100000 Accuracy Training Set: 0.9774011299435028 Accuracy Test_Set: 0.9925373134328358\n",
      "Nth Epoch: 200000 Accuracy Training Set: 0.9717514124293786 Accuracy Test_Set: 0.9925373134328358\n",
      "Nth Epoch: 300000 Accuracy Training Set: 0.9661016949152542 Accuracy Test_Set: 0.9925373134328358\n",
      "Nth Epoch: 400000 Accuracy Training Set: 0.9717514124293786 Accuracy Test_Set: 0.9925373134328358\n",
      "Nth Epoch: 500000 Accuracy Training Set: 0.9774011299435028 Accuracy Test_Set: 0.9925373134328358\n",
      "Nth Epoch: 600000 Accuracy Training Set: 0.9774011299435028 Accuracy Test_Set: 0.9925373134328358\n",
      "Nth Epoch: 700000 Accuracy Training Set: 0.9774011299435028 Accuracy Test_Set: 0.9925373134328358\n",
      "Nth Epoch: 800000 Accuracy Training Set: 0.9774011299435028 Accuracy Test_Set: 0.9925373134328358\n",
      "Nth Epoch: 900000 Accuracy Training Set: 0.9774011299435028 Accuracy Test_Set: 0.9925373134328358\n",
      "Nth Epoch: 1000000 Accuracy Training Set: 0.9774011299435028 Accuracy Test_Set: 0.9925373134328358\n"
     ]
    },
    {
     "data": {
      "image/png": "[encoded data removed]",
      "text/plain": [
       "<Figure size 432x288 with 1 Axes>"
      ]
     },
     "metadata": {
      "needs_background": "light"
     },
     "output_type": "display_data"
    }
   ],
   "source": [
    "parameters_blobs = neural_net(X_train_blobs, Y_train_blobs, X_test_blobs, Y_test_blobs,\n",
    "                      input_size = X_train_blobs.shape[1], h = 1, output_size = 1, epochs = 1000000, l_rate = 0.001)"
   ]
  },
  {
   "cell_type": "code",
   "execution_count": 186,
   "id": "368937f2",
   "metadata": {},
   "outputs": [
    {
     "name": "stdout",
     "output_type": "stream",
     "text": [
      "Nth Epoch: 0 Accuracy Training Set: 0.4774774774774775 Accuracy Test_Set: 0.5269461077844312\n",
      "Nth Epoch: 1000 Accuracy Training Set: 0.6621621621621622 Accuracy Test_Set: 0.6946107784431138\n",
      "Nth Epoch: 2000 Accuracy Training Set: 0.7072072072072072 Accuracy Test_Set: 0.688622754491018\n",
      "Nth Epoch: 3000 Accuracy Training Set: 0.7162162162162162 Accuracy Test_Set: 0.718562874251497\n",
      "Nth Epoch: 4000 Accuracy Training Set: 0.7792792792792793 Accuracy Test_Set: 0.7365269461077845\n",
      "Nth Epoch: 5000 Accuracy Training Set: 0.8018018018018018 Accuracy Test_Set: 0.7844311377245509\n",
      "Nth Epoch: 6000 Accuracy Training Set: 0.8153153153153153 Accuracy Test_Set: 0.7964071856287425\n",
      "Nth Epoch: 7000 Accuracy Training Set: 0.8468468468468469 Accuracy Test_Set: 0.8143712574850299\n",
      "Nth Epoch: 8000 Accuracy Training Set: 0.8603603603603603 Accuracy Test_Set: 0.8263473053892215\n",
      "Nth Epoch: 9000 Accuracy Training Set: 0.8603603603603603 Accuracy Test_Set: 0.8323353293413174\n",
      "Nth Epoch: 10000 Accuracy Training Set: 0.8693693693693694 Accuracy Test_Set: 0.844311377245509\n"
     ]
    },
    {
     "data": {
      "image/png": "[encoded data removed]",
      "text/plain": [
       "<Figure size 432x288 with 1 Axes>"
      ]
     },
     "metadata": {
      "needs_background": "light"
     },
     "output_type": "display_data"
    }
   ],
   "source": [
    "parameters_moons = neural_net(X_train_moons, Y_train_moons, X_test_moons, Y_test_moons,\n",
    "                      input_size = X_train_moons.shape[1], h = 3, output_size = 1, epochs = 10000, l_rate = 0.01)"
   ]
  },
  {
   "cell_type": "markdown",
   "id": "e819eb95",
   "metadata": {},
   "source": [
    "# Task 4: Challenging Task (Training and Testing on Fashion-MNIST Dataset)\n",
    "\n",
    "We have been given the two distinct classes to classify: dress and pullover.  We will extract out particular classes to distinguish along with the observation featuers in order to create the training data. \n",
    "\n",
    "We will first load the Fashion-MNIST dataset\n",
    "\n",
    "The code used is the same as the code provided in the Load-Fashion-MNIST.ipynb file"
   ]
  },
  {
   "cell_type": "code",
   "execution_count": 258,
   "id": "daa74fef",
   "metadata": {},
   "outputs": [],
   "source": [
    "import matplotlib.pyplot as plt"
   ]
  },
  {
   "cell_type": "code",
   "execution_count": 259,
   "id": "fcb36d10",
   "metadata": {},
   "outputs": [],
   "source": [
    "# This function taken directly from the Fashion-MNIST github site: \n",
    "# https://github.com/zalandoresearch/fashion-mnist/blob/master/utils/mnist_reader.py\n",
    "\n",
    "# Note: first arg is the path name, second is the file prefix, either 'train' or 't10k' (which is 10k of test data)\n",
    "def load_mnist(path, kind='train'): \n",
    "    import os\n",
    "    import gzip\n",
    "    import numpy as np\n",
    "\n",
    "    \"\"\"Load MNIST data from `path`\"\"\"\n",
    "    labels_path = os.path.join(path,\n",
    "                               '%s-labels-idx1-ubyte.gz'\n",
    "                               % kind)\n",
    "    images_path = os.path.join(path,\n",
    "                               '%s-images-idx3-ubyte.gz'\n",
    "                               % kind)\n",
    "\n",
    "    with gzip.open(labels_path, 'rb') as lbpath:\n",
    "        labels = np.frombuffer(lbpath.read(), dtype=np.uint8,\n",
    "                               offset=8)\n",
    "\n",
    "    with gzip.open(images_path, 'rb') as imgpath:\n",
    "        images = np.frombuffer(imgpath.read(), dtype=np.uint8,\n",
    "                               offset=16).reshape(len(labels), 784)\n",
    "\n",
    "    return images, labels\n",
    "\n",
    "# Loaded in this way, each of the batch files contains a dictionary with the following elements:\n",
    "#   data -- a 10000x3072 numpy array of uint8s. Each row of the array stores a 32x32 colour image. \n",
    "#           The first 1024 entries contain the red channel values, the next 1024 the green, and the final 1024 the blue. \n",
    "#           The image is stored in row-major order, so that the first 32 entries of the array are the red channel values \n",
    "#           of the first row of the image.\n",
    "#   labels -- a list of 10000 numbers in the range 0-9. \n",
    "#             The number at index i indicates the label of the ith image in the array data.\n"
   ]
  },
  {
   "cell_type": "code",
   "execution_count": 260,
   "id": "46090700",
   "metadata": {},
   "outputs": [],
   "source": [
    "(train_imgs, train_labels) = load_mnist('fashion-mnist-data', 'train')"
   ]
  },
  {
   "cell_type": "code",
   "execution_count": 261,
   "id": "1d7f9231",
   "metadata": {},
   "outputs": [],
   "source": [
    "label_names = ['T-shirt/top', 'Trouser' , 'Pullover', 'Dress', 'Coat', 'Sandal', 'Shirt', 'Sneaker', 'Bag', 'Ankle boot']"
   ]
  },
  {
   "cell_type": "code",
   "execution_count": 262,
   "id": "1e135f5a",
   "metadata": {},
   "outputs": [
    {
     "name": "stdout",
     "output_type": "stream",
     "text": [
      "Shape of images is (60000, 784), labels is (60000,)\n"
     ]
    }
   ],
   "source": [
    "print(f\"Shape of images is {train_imgs.shape}, labels is {train_labels.shape}\")\n",
    "\n",
    "# Note: you should find your images is 60000 x 784, and labels is 60000 scalars.\n",
    "# There are 60,000 images, and each image is a 28x28 = 784 pixels.\n",
    "# Each label is a single value corresponding to T-shirt, Trouser, etc."
   ]
  },
  {
   "cell_type": "code",
   "execution_count": 263,
   "id": "00f10bb0",
   "metadata": {},
   "outputs": [],
   "source": [
    "def visualise(data, index):\n",
    "    # MM Jan 2019: Given an MNIST data nparray and the index of an image, display the image.\n",
    "    # Note that the images will be quite fuzzy looking, because they are low res (28x28).\n",
    "\n",
    "    picture = data[index]\n",
    "    \n",
    "    # Initially, the data is a 1D array of 784 pixels; reshape it to a 2D array of 28x28 pixels\n",
    "    picture.shape = (28,28) \n",
    "    \n",
    "    # Display it\n",
    "    plt.imshow(picture, cmap='gray')\n",
    "    plt.show()"
   ]
  },
  {
   "cell_type": "code",
   "execution_count": 264,
   "id": "c4f0d866",
   "metadata": {},
   "outputs": [
    {
     "data": {
      "image/png": "[encoded data removed]",
      "text/plain": [
       "<Figure size 432x288 with 1 Axes>"
      ]
     },
     "metadata": {
      "needs_background": "light"
     },
     "output_type": "display_data"
    }
   ],
   "source": [
    "#We will visualise the pullover\n",
    "\n",
    "visualise(train_imgs, 2)"
   ]
  },
  {
   "cell_type": "code",
   "execution_count": 265,
   "id": "5da87d72",
   "metadata": {},
   "outputs": [
    {
     "data": {
      "image/png": "[encoded data removed]",
      "text/plain": [
       "<Figure size 432x288 with 1 Axes>"
      ]
     },
     "metadata": {
      "needs_background": "light"
     },
     "output_type": "display_data"
    }
   ],
   "source": [
    "#We will visualise the dress\n",
    "\n",
    "visualise(train_imgs, 3)"
   ]
  },
  {
   "cell_type": "code",
   "execution_count": 244,
   "id": "34de88e9",
   "metadata": {},
   "outputs": [
    {
     "data": {
      "image/png": "[encoded data removed]",
      "text/plain": [
       "<Figure size 432x288 with 1 Axes>"
      ]
     },
     "metadata": {
      "needs_background": "light"
     },
     "output_type": "display_data"
    },
    {
     "name": "stdout",
     "output_type": "stream",
     "text": [
      "Image 90 : Class is  Ankle boot class id= 9\n"
     ]
    },
    {
     "data": {
      "image/png": "[encoded data removed]",
      "text/plain": [
       "<Figure size 432x288 with 1 Axes>"
      ]
     },
     "metadata": {
      "needs_background": "light"
     },
     "output_type": "display_data"
    },
    {
     "name": "stdout",
     "output_type": "stream",
     "text": [
      "Image 91 : Class is  Dress class id= 3\n"
     ]
    },
    {
     "data": {
      "image/png": "[encoded data removed]",
      "text/plain": [
       "<Figure size 432x288 with 1 Axes>"
      ]
     },
     "metadata": {
      "needs_background": "light"
     },
     "output_type": "display_data"
    },
    {
     "name": "stdout",
     "output_type": "stream",
     "text": [
      "Image 92 : Class is  Pullover class id= 2\n"
     ]
    },
    {
     "data": {
      "image/png": "[encoded data removed]",
      "text/plain": [
       "<Figure size 432x288 with 1 Axes>"
      ]
     },
     "metadata": {
      "needs_background": "light"
     },
     "output_type": "display_data"
    },
    {
     "name": "stdout",
     "output_type": "stream",
     "text": [
      "Image 93 : Class is  Ankle boot class id= 9\n"
     ]
    },
    {
     "data": {
      "image/png": "[encoded data removed]",
      "text/plain": [
       "<Figure size 432x288 with 1 Axes>"
      ]
     },
     "metadata": {
      "needs_background": "light"
     },
     "output_type": "display_data"
    },
    {
     "name": "stdout",
     "output_type": "stream",
     "text": [
      "Image 94 : Class is  Dress class id= 3\n"
     ]
    },
    {
     "data": {
      "image/png": "[encoded data removed]",
      "text/plain": [
       "<Figure size 432x288 with 1 Axes>"
      ]
     },
     "metadata": {
      "needs_background": "light"
     },
     "output_type": "display_data"
    },
    {
     "name": "stdout",
     "output_type": "stream",
     "text": [
      "Image 95 : Class is  Shirt class id= 6\n"
     ]
    },
    {
     "data": {
      "image/png": "[encoded data removed]",
      "text/plain": [
       "<Figure size 432x288 with 1 Axes>"
      ]
     },
     "metadata": {
      "needs_background": "light"
     },
     "output_type": "display_data"
    },
    {
     "name": "stdout",
     "output_type": "stream",
     "text": [
      "Image 96 : Class is  Coat class id= 4\n"
     ]
    },
    {
     "data": {
      "image/png": "[encoded data removed]",
      "text/plain": [
       "<Figure size 432x288 with 1 Axes>"
      ]
     },
     "metadata": {
      "needs_background": "light"
     },
     "output_type": "display_data"
    },
    {
     "name": "stdout",
     "output_type": "stream",
     "text": [
      "Image 97 : Class is  Trouser class id= 1\n"
     ]
    },
    {
     "data": {
      "image/png": "[encoded data removed]",
      "text/plain": [
       "<Figure size 432x288 with 1 Axes>"
      ]
     },
     "metadata": {
      "needs_background": "light"
     },
     "output_type": "display_data"
    },
    {
     "name": "stdout",
     "output_type": "stream",
     "text": [
      "Image 98 : Class is  Trouser class id= 1\n"
     ]
    },
    {
     "data": {
      "image/png": "[encoded data removed]",
      "text/plain": [
       "<Figure size 432x288 with 1 Axes>"
      ]
     },
     "metadata": {
      "needs_background": "light"
     },
     "output_type": "display_data"
    },
    {
     "name": "stdout",
     "output_type": "stream",
     "text": [
      "Image 99 : Class is  Bag class id= 8\n"
     ]
    }
   ],
   "source": [
    "# Display a few images that we loaded\n",
    "for i in range (90,100):\n",
    "   visualise(train_imgs, i)\n",
    "   print(\"Image\", i,\": Class is \", label_names[train_labels[i]], \"class id=\", train_labels[i])"
   ]
  },
  {
   "cell_type": "code",
   "execution_count": 266,
   "id": "877b7815",
   "metadata": {},
   "outputs": [
    {
     "data": {
      "text/plain": [
       "(12000, 1)"
      ]
     },
     "execution_count": 266,
     "metadata": {},
     "output_type": "execute_result"
    }
   ],
   "source": [
    "batch1_data= train_imgs    \n",
    "batch1_labels =train_labels\n",
    "\n",
    "batch1_red_channel = batch1_data[:,:1024]\n",
    "\n",
    "batch1_labels = np.array([batch1_labels])\n",
    "batch1_labels = batch1_labels.T\n",
    "\n",
    "batch1_data = np.append(batch1_red_channel,batch1_labels,axis=1)\n",
    "\n",
    "# We will fetch the pullover class from the dataset\n",
    "\n",
    "pullover_data = batch1_data[batch1_data[:,-1] == 2]\n",
    "\n",
    "# We will fetch the dress class from the dataset\n",
    "\n",
    "dress_data = batch1_data[batch1_data[:,-1] == 3]\n",
    "\n",
    "y = np.concatenate((pullover_data,dress_data),axis=0)\n",
    "\n",
    "# Now we will convert the labels to 0 and 1\n",
    "Y = y[:,[-1]]\n",
    "Y[Y==2] = 0\n",
    "Y[Y==3] = 1\n",
    "\n",
    "X = np.delete(y,-1,1)\n",
    "Y.shape\n"
   ]
  },
  {
   "cell_type": "code",
   "execution_count": 267,
   "id": "ae7ade32",
   "metadata": {},
   "outputs": [
    {
     "name": "stdout",
     "output_type": "stream",
     "text": [
      "(8400, 784)\n",
      "(8400, 1)\n",
      "(3600, 784)\n",
      "(3600, 1)\n"
     ]
    }
   ],
   "source": [
    "# Splitting the dataset\n",
    "\n",
    "X_train_mnist, X_test_mnist, Y_train_mnist, Y_test_mnist = train_test_split(X, Y, \n",
    "                                               test_size=0.3, random_state=17)\n",
    "\n",
    "\n",
    "X_train_mnist = X_train_mnist/255\n",
    "X_test_mnist = X_test_mnist/255\n",
    "\n",
    "print(X_train_mnist.shape)\n",
    "print(Y_train_mnist.shape)\n",
    "print(X_test_mnist.shape)\n",
    "print(Y_test_mnist.shape)"
   ]
  },
  {
   "cell_type": "code",
   "execution_count": 199,
   "id": "355fe25c",
   "metadata": {},
   "outputs": [
    {
     "name": "stdout",
     "output_type": "stream",
     "text": [
      "Nth Epoch: 0 Accuracy Training Set: 0.49726190476190474 Accuracy Test_Set: 0.5038888888888889\n",
      "Nth Epoch: 10000 Accuracy Training Set: 0.9514285714285714 Accuracy Test_Set: 0.9594444444444444\n",
      "Nth Epoch: 20000 Accuracy Training Set: 0.96 Accuracy Test_Set: 0.9711111111111111\n",
      "Nth Epoch: 30000 Accuracy Training Set: 0.9629761904761904 Accuracy Test_Set: 0.9736111111111111\n",
      "Nth Epoch: 40000 Accuracy Training Set: 0.9646428571428571 Accuracy Test_Set: 0.975\n",
      "Nth Epoch: 50000 Accuracy Training Set: 0.9651190476190477 Accuracy Test_Set: 0.9761111111111112\n",
      "Nth Epoch: 60000 Accuracy Training Set: 0.9667857142857142 Accuracy Test_Set: 0.9755555555555555\n",
      "Nth Epoch: 70000 Accuracy Training Set: 0.9671428571428572 Accuracy Test_Set: 0.9755555555555555\n",
      "Nth Epoch: 80000 Accuracy Training Set: 0.9679761904761904 Accuracy Test_Set: 0.9758333333333333\n",
      "Nth Epoch: 90000 Accuracy Training Set: 0.9688095238095238 Accuracy Test_Set: 0.9761111111111112\n",
      "Nth Epoch: 100000 Accuracy Training Set: 0.9686904761904762 Accuracy Test_Set: 0.9761111111111112\n"
     ]
    },
    {
     "data": {
      "image/png": "[encoded data removed]",
      "text/plain": [
       "<Figure size 432x288 with 1 Axes>"
      ]
     },
     "metadata": {
      "needs_background": "light"
     },
     "output_type": "display_data"
    }
   ],
   "source": [
    "parameters_mnist = neural_net(X_train_mnist, Y_train_mnist, X_test_mnist, Y_test_mnist,\n",
    "                      input_size = X_train_mnist.shape[1], h = 21, output_size = 1, epochs = 100000, l_rate = 0.001)\n"
   ]
  },
  {
   "cell_type": "markdown",
   "id": "ae76f3ac",
   "metadata": {},
   "source": [
    "# Task 5: Deep Learning Enhancements\n",
    "\n"
   ]
  },
  {
   "cell_type": "markdown",
   "id": "565e7f4a",
   "metadata": {},
   "source": [
    "# Enhancement by Basabdatta Chaudhury (Student ID: 22225649)\n",
    "\n",
    "I have implemented Stochastic Gradient Descent.\n",
    "\n",
    "Stochastic Gradient Descent:\n",
    "Stochastic Gradient Descent (SGD) is an optimization algorithm commonly used to train Shallow Neural Networks (SNNs). The goal of training an SNN is to learn a set of weights and biases that can accurately map inputs to outputs.\n",
    "SGD works by updating the network's weights and biases in small increments, or \"steps,\" in the direction that minimizes the loss function. The loss function measures the difference between the predicted outputs of the SNN and the true outputs.In each iteration of SGD, the algorithm randomly selects a mini-batch of examples, computes the gradients of the loss function with respect to the weights and biases, and updates the parameters accordingly. The learning rate, which controls the step size of the updates, is typically set to a small value to prevent the algorithm from overshooting the optimal weights and biases.SGD continues to iterate through the training data, updating the weights and biases in small steps, until the loss function converges to a minimum or until a stopping criterion is met. At this point, the SNN has learned a set of weights and biases that can accurately predict the outputs for new inputs."
   ]
  },
  {
   "cell_type": "code",
   "execution_count": 268,
   "id": "f4f73413",
   "metadata": {},
   "outputs": [],
   "source": [
    "def neuralnet_stochasticgd(X_train, Y_train, X_test, Y_test, input_size, h, output_size, epochs, l_rate):\n",
    "    \n",
    "    \n",
    "    parameters = init_params(input_size, h, output_size)\n",
    "    \n",
    "    \n",
    "    costs_list = []\n",
    "    \n",
    "    for i in range(epochs+1):\n",
    "        for j in range(X_train.shape[0]):\n",
    "            case = np.random.choice(X_train.shape[0],size=1,replace=False)\n",
    "            X_train_new = X_train[case,:]\n",
    "            Y_train_new = Y_train[case,:]\n",
    "             \n",
    "            forward_feed = forward_propagation(X_train_new, parameters)\n",
    "\n",
    "            parameters = backward_propagation(X_train_new, Y_train_new, parameters, forward_feed, l_rate)\n",
    "\n",
    "        train_pred = predict(X_train,parameters)\n",
    "        test_pred = predict(X_test,parameters)\n",
    "        \n",
    "        cost_val = cost_func(forward_feed[\"A2\"],Y_train)\n",
    "        costs_list.append(cost_val)\n",
    "    \n",
    "        if i%(epochs/10)==0:\n",
    "            acc_train=accuracy_score(Y_train, train_pred)\n",
    "            acc_test=accuracy_score(Y_test, test_pred)\n",
    "            print(\"Nth Epoch:\",i,\"Accuracy Training Set:\",acc_train,\"Accuracy Test_Set:\",acc_test)\n",
    "        \n",
    "   \n",
    "    mlp.plot(costs_list, color='green')\n",
    "    mlp.ylabel('Cost Function')\n",
    "    mlp.xlabel('Epochs')\n",
    "    mlp.title(\"Change in costs\")\n",
    "    mlp.show()\n",
    "        \n",
    "    return parameters"
   ]
  },
  {
   "cell_type": "code",
   "execution_count": 269,
   "id": "4aab54a7",
   "metadata": {},
   "outputs": [
    {
     "name": "stdout",
     "output_type": "stream",
     "text": [
      "Nth Epoch: 0 Accuracy Training Set: 0.9735714285714285 Accuracy Test_Set: 0.9780555555555556\n",
      "Nth Epoch: 50 Accuracy Training Set: 0.9820238095238095 Accuracy Test_Set: 0.9766666666666667\n",
      "Nth Epoch: 100 Accuracy Training Set: 0.9914285714285714 Accuracy Test_Set: 0.9786111111111111\n",
      "Nth Epoch: 150 Accuracy Training Set: 0.9907142857142858 Accuracy Test_Set: 0.98\n",
      "Nth Epoch: 200 Accuracy Training Set: 0.991547619047619 Accuracy Test_Set: 0.9788888888888889\n",
      "Nth Epoch: 250 Accuracy Training Set: 0.9966666666666667 Accuracy Test_Set: 0.9786111111111111\n",
      "Nth Epoch: 300 Accuracy Training Set: 0.9970238095238095 Accuracy Test_Set: 0.9780555555555556\n",
      "Nth Epoch: 350 Accuracy Training Set: 0.9859523809523809 Accuracy Test_Set: 0.9761111111111112\n",
      "Nth Epoch: 400 Accuracy Training Set: 0.9835714285714285 Accuracy Test_Set: 0.9825\n",
      "Nth Epoch: 450 Accuracy Training Set: 0.9741666666666666 Accuracy Test_Set: 0.9658333333333333\n",
      "Nth Epoch: 500 Accuracy Training Set: 0.9904761904761905 Accuracy Test_Set: 0.9769444444444444\n"
     ]
    },
    {
     "data": {
      "image/png": "[encoded data removed]",
      "text/plain": [
       "<Figure size 432x288 with 1 Axes>"
      ]
     },
     "metadata": {
      "needs_background": "light"
     },
     "output_type": "display_data"
    }
   ],
   "source": [
    "parameters_mnist = neuralnet_stochasticgd(X_train_mnist, Y_train_mnist, X_test_mnist, Y_test_mnist,\n",
    "                      input_size = X_train_mnist.shape[1], h = 20, output_size = 1, epochs = 500, l_rate = 0.1)"
   ]
  },
  {
   "cell_type": "markdown",
   "id": "5d024f60",
   "metadata": {},
   "source": [
    "# Enhancement by Mohammad Sabnine (Student ID: 22220445 )\n",
    "\n",
    "In order to improve the performance of the model, I have implemented L2 Regularization.\n",
    "\n",
    "L2 Regularization:\n",
    "L2 regularization, also known as weight decay, is a common technique used to prevent overfitting in shallow neural networks. The idea behind L2 regularization is to add an additional term to the cost function of the neural network that penalizes the weights of the network. This penalty term is proportional to the square of the L2 norm of the weight vector, which is the sum of the squared values of all the weights in the network. The strength of the regularization is controlled by a hyperparameter called the regularization parameter, which determines how much weight is given to the penalty term relative to the original cost function. By adding the L2 regularization term to the cost function, the neural network is encouraged to learn smaller weight values, which can help to prevent overfitting. This is because larger weights can lead to a more complex model that is better able to fit the training data, but may not generalize well to new, unseen data. L2 regularization can help to balance the trade-off between fitting the training data well and avoiding overfitting."
   ]
  },
  {
   "cell_type": "code",
   "execution_count": 270,
   "id": "eaf54623",
   "metadata": {},
   "outputs": [],
   "source": [
    "def costFunc_l2reg(Y_hat, Y, parameters, l2reg_lambda = 0.01):\n",
    "    \n",
    "    N = Y.shape[0]\n",
    "    W = parameters[\"W1\"]\n",
    "    log_loss_fn = (1/N) * np.sum(Y*np.log(Y_hat) + (1-Y)*np.log(1-Y_hat))\n",
    "    l2reg_cost = (l2reg_lambda/(2.*N)) * np.sum([np.sum(np.square(W))])\n",
    "    \n",
    "    return log_loss_fn +  l2reg_cost"
   ]
  },
  {
   "cell_type": "code",
   "execution_count": 271,
   "id": "f3a01ada",
   "metadata": {},
   "outputs": [],
   "source": [
    "def back_prop_with_l2reg(X_train,Y_train, parameters, forward_feed, alpha, l2reg_lam = 0.01):\n",
    "    \n",
    "    A2 = forward_feed[\"A2\"]\n",
    "    A1 = forward_feed[\"A1\"]\n",
    "    \n",
    "    \n",
    "    W1 = parameters['W1']\n",
    "    B1 = parameters['B1']\n",
    "    W2 = parameters['W2']\n",
    "    B2 = parameters['B2']\n",
    "\n",
    "    N = X_train.shape[0] \n",
    "\n",
    "    dZ2 = A2 - Y_train \n",
    "    dW2 = (1./N)*np.dot(A1.T, dZ2) + (l2reg_lam*W2)/N\n",
    "    db2 = (1./N)*np.sum(dZ2, axis=0, keepdims=True)\n",
    "\n",
    "    dZ1 = np.dot(dZ2, W2.T)\n",
    "    dZ1 = dZ1 * (A1 * (1-A1)) \n",
    "    dW1 = (1./N)*np.dot(X_train.T, dZ1) + (l2reg_lam*W1)/N \n",
    "    db1 = (1./N)*np.sum(dZ1, axis=0, keepdims=True)\n",
    "\n",
    "   \n",
    "    W1 = W1 - alpha * dW1\n",
    "    B1 = B1 - alpha * db1\n",
    "    W2 = W2 - alpha * dW2\n",
    "    B2 = B2 - alpha * db2\n",
    "\n",
    "    \n",
    "    parameters = {\"W1\":W1,\"B1\":B1,\"W2\":W2,\"B2\":B2}\n",
    "\n",
    "    return parameters"
   ]
  },
  {
   "cell_type": "code",
   "execution_count": 272,
   "id": "bd65ccd1",
   "metadata": {},
   "outputs": [],
   "source": [
    "def neural_net_l2reg(X_train, Y_train, X_test, Y_test, input_size, h, output_size, epochs, alpha, l2reg_lam=0.01):\n",
    "    \n",
    "   \n",
    "    parameters = init_params(input_size, h, output_size)\n",
    "    \n",
    "    costs_list = []\n",
    "    \n",
    "    for i in range(epochs+1):\n",
    "\n",
    "        forward_feed = forward_propagation(X_train, parameters)\n",
    "        parameters = back_prop_with_l2reg(X_train, Y_train, parameters, forward_feed, alpha, l2reg_lam=0.01)\n",
    "        \n",
    "        cost_val = costFunc_l2reg(forward_feed[\"A2\"],Y_train,parameters,l2reg_lam)\n",
    "        costs_list.append(cost_val)\n",
    "\n",
    "       \n",
    "        train_pred = predict(X_train,parameters)\n",
    "\n",
    "      \n",
    "        test_pred = predict(X_test,parameters)\n",
    "\n",
    "       \n",
    "        if i%(epochs/10)==0:\n",
    "            acc_train=accuracy_score(Y_train, train_pred)\n",
    "            acc_test=accuracy_score(Y_test, test_pred)\n",
    "            print(\"Nth Epoch:\",i,\"Accuracy Training Set:\",acc_train,\"Accuracy Test_Set:\",acc_test)\n",
    "    \n",
    "  \n",
    "    mlp.plot(costs_list, color='green')\n",
    "    mlp.ylabel('Cost Function')\n",
    "    mlp.xlabel('Epochs')\n",
    "    mlp.title(\"Change in costs\")\n",
    "    mlp.show()\n",
    "    \n",
    "    return parameters"
   ]
  },
  {
   "cell_type": "code",
   "execution_count": 273,
   "id": "d5f99478",
   "metadata": {},
   "outputs": [
    {
     "name": "stdout",
     "output_type": "stream",
     "text": [
      "Nth Epoch: 0 Accuracy Training Set: 0.49607142857142855 Accuracy Test_Set: 0.5027777777777778\n",
      "Nth Epoch: 50 Accuracy Training Set: 0.929047619047619 Accuracy Test_Set: 0.9383333333333334\n",
      "Nth Epoch: 100 Accuracy Training Set: 0.9513095238095238 Accuracy Test_Set: 0.9594444444444444\n",
      "Nth Epoch: 150 Accuracy Training Set: 0.9573809523809523 Accuracy Test_Set: 0.9680555555555556\n",
      "Nth Epoch: 200 Accuracy Training Set: 0.9598809523809524 Accuracy Test_Set: 0.9713888888888889\n",
      "Nth Epoch: 250 Accuracy Training Set: 0.9616666666666667 Accuracy Test_Set: 0.9730555555555556\n",
      "Nth Epoch: 300 Accuracy Training Set: 0.9629761904761904 Accuracy Test_Set: 0.9736111111111111\n",
      "Nth Epoch: 350 Accuracy Training Set: 0.9641666666666666 Accuracy Test_Set: 0.9741666666666666\n",
      "Nth Epoch: 400 Accuracy Training Set: 0.9645238095238096 Accuracy Test_Set: 0.975\n",
      "Nth Epoch: 450 Accuracy Training Set: 0.9647619047619047 Accuracy Test_Set: 0.9758333333333333\n",
      "Nth Epoch: 500 Accuracy Training Set: 0.9651190476190477 Accuracy Test_Set: 0.9758333333333333\n"
     ]
    },
    {
     "data": {
      "image/png": "[encoded data removed]",
      "text/plain": [
       "<Figure size 432x288 with 1 Axes>"
      ]
     },
     "metadata": {
      "needs_background": "light"
     },
     "output_type": "display_data"
    }
   ],
   "source": [
    "parameters_mnist = neural_net_l2reg(X_train_mnist, Y_train_mnist, X_test_mnist, Y_test_mnist,\n",
    "                      input_size = X_train_mnist.shape[1], h = 21, output_size = 1, epochs = 500, alpha = 0.1, l2reg_lam = 0.01)"
   ]
  },
  {
   "cell_type": "markdown",
   "id": "b9cb4dc7",
   "metadata": {},
   "source": [
    "# References\n",
    "\n",
    "1. Deep Learning - Week 2 Lecture Slides by Prof. Michael Madden\n",
    "\n",
    "\n",
    "\n",
    "2. Deep Learning - Week 3 Lecture Slides by Prof. Michael Madden\n",
    "\n",
    "\n",
    "\n",
    "3. http://ufldl.stanford.edu/tutorial/supervised/MultiLayerNeuralNetworks/\n",
    "\n",
    "\n",
    "\n",
    "4. Deep Learning - Week 4 Lecture Slides by Prof. Michael Madden\n",
    "\n",
    "\n",
    "\n",
    "5. https://towardsdatascience.com/shallow-neural-networks-23594aa97a5\n",
    "\n",
    "\n"
   ]
  },
  {
   "cell_type": "code",
   "execution_count": null,
   "id": "65a5f52c",
   "metadata": {},
   "outputs": [],
   "source": []
  }
 ],
 "metadata": {
  "kernelspec": {
   "display_name": "Python 3 (ipykernel)",
   "language": "python",
   "name": "python3"
  },
  "language_info": {
   "codemirror_mode": {
    "name": "ipython",
    "version": 3
   },
   "file_extension": ".py",
   "mimetype": "text/x-python",
   "name": "python",
   "nbconvert_exporter": "python",
   "pygments_lexer": "ipython3",
   "version": "3.9.12"
  }
 },
 "nbformat": 4,
 "nbformat_minor": 5
}
